{
 "cells": [
  {
   "cell_type": "markdown",
   "metadata": {},
   "source": [
    "# Some cool examples"
   ]
  },
  {
   "cell_type": "markdown",
   "metadata": {},
   "source": [
    "[Federal Reserve Bank of New York DSGE](https://github.com/FRBNY-DSGE/DSGE.jl)\n",
    "\n",
    "[Introduction to Computational Thinking - MIT Spring 2021](https://computationalthinking.mit.edu/Spring21/)\n",
    "\n",
    "[Oceananigans.jl ](https://github.com/CliMA/Oceananigans.jl)\n",
    "\n",
    "[BeautifulAlgorithms.jl](https://github.com/mossr/BeautifulAlgorithms.jl)"
   ]
  },
  {
   "cell_type": "markdown",
   "metadata": {},
   "source": [
    "# Julia resources"
   ]
  },
  {
   "cell_type": "code",
   "execution_count": null,
   "metadata": {},
   "outputs": [],
   "source": []
  }
 ],
 "metadata": {
  "kernelspec": {
   "display_name": "Julia 1.6.1",
   "language": "julia",
   "name": "julia-1.6"
  },
  "language_info": {
   "file_extension": ".jl",
   "mimetype": "application/julia",
   "name": "julia",
   "version": "1.6.1"
  }
 },
 "nbformat": 4,
 "nbformat_minor": 4
}
