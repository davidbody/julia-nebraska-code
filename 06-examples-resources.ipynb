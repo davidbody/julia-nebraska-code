{
 "cells": [
  {
   "cell_type": "markdown",
   "metadata": {},
   "source": [
    "# Some cool examples"
   ]
  },
  {
   "cell_type": "markdown",
   "metadata": {},
   "source": [
    "[BeautifulAlgorithms.jl](https://github.com/mossr/BeautifulAlgorithms.jl)\n",
    "\n",
    "[Federal Reserve Bank of New York DSGE](https://github.com/FRBNY-DSGE/DSGE.jl)\n",
    "\n",
    "[Introduction to Computational Thinking - MIT Spring 2021](https://computationalthinking.mit.edu/Spring21/)\n",
    "\n",
    "[Climate Modeling Alliance](https://clima.caltech.edu/)"
   ]
  },
  {
   "cell_type": "markdown",
   "metadata": {},
   "source": [
    "# Julia resources"
   ]
  },
  {
   "cell_type": "markdown",
   "metadata": {},
   "source": [
    "(All of these are at [julialang.org](julialang.org).)\n",
    "\n",
    "[Julia Documentation](https://docs.julialang.org/en/v1/)\n",
    "\n",
    "[Noteworthy Differences from other Languages](https://docs.julialang.org/en/v1/manual/noteworthy-differences/) Compares Julia with\n",
    "\n",
    "* MATLAB\n",
    "* R\n",
    "* Python\n",
    "* C/C++\n",
    "* Common Lisp\n",
    "\n",
    "[Getting Started with Julia](https://julialang.org/learning/)\n"
   ]
  },
  {
   "cell_type": "markdown",
   "metadata": {
    "jupyter": {
     "source_hidden": true
    },
    "tags": []
   },
   "source": [
    "# Questions?\n",
    "\n",
    "### Please fill out the evaluations.\n",
    "\n",
    "### Support the Nebraska.Code() sponsors!"
   ]
  },
  {
   "cell_type": "code",
   "execution_count": null,
   "metadata": {},
   "outputs": [],
   "source": []
  }
 ],
 "metadata": {
  "kernelspec": {
   "display_name": "Julia 1.6.1",
   "language": "julia",
   "name": "julia-1.6"
  },
  "language_info": {
   "file_extension": ".jl",
   "mimetype": "application/julia",
   "name": "julia",
   "version": "1.6.1"
  }
 },
 "nbformat": 4,
 "nbformat_minor": 4
}
