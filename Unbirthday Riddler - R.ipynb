{
 "cells": [
  {
   "cell_type": "markdown",
   "metadata": {},
   "source": [
    "# Riddler Express\n",
    "\n",
    "https://fivethirtyeight.com/features/so-you-want-to-tether-your-goat-now-what/\n",
    "\n",
    "> From Luke Robinson, a serenading stumper:\n",
    "\n",
    "> My daughter really likes to hear me sing “The Unbirthday Song” from “Alice in Wonderland” to her. She also likes to sing it to other people. Obviously, the odds of my being able to sing it to her on any random day are 364 in 365, because I cannot sing it on her birthday. The question is, though, how many random people would she expect to be able to sing it to on any given day before it became more likely than not that she would encounter someone whose birthday it is? In other words, what is the expected length of her singing streak?\n",
    "\n",
    "Let's use a **R** simulation to calculate the approximate expected length of the singing streak."
   ]
  },
  {
   "cell_type": "code",
   "execution_count": 1,
   "metadata": {},
   "outputs": [],
   "source": [
    "library(purrr)\n",
    "\n",
    "trial3 <- function() {\n",
    "  detect_index(sample.int(365, 5000, replace = TRUE), \\(x) x == 1) - 1\n",
    "}\n",
    "\n",
    "do_trials <- function(n_trials) {\n",
    "  trials <- replicate(n_trials, trial3())\n",
    "  mean(trials)\n",
    "}\n"
   ]
  },
  {
   "cell_type": "code",
   "execution_count": 2,
   "metadata": {},
   "outputs": [
    {
     "name": "stdout",
     "output_type": "stream",
     "text": [
      "[1] \"Performing 1,000,000 trials...\"\n",
      "[1] 363.8433\n"
     ]
    },
    {
     "data": {
      "text/plain": [
       "    user   system  elapsed \n",
       "1117.755    0.146 1118.599 "
      ]
     },
     "metadata": {},
     "output_type": "display_data"
    }
   ],
   "source": [
    "n_trials = 1e6\n",
    "print(paste(\"Performing\", format(n_trials, big.mark = \",\", scientific = FALSE), \"trials...\"))\n",
    "system.time(print(do_trials(n_trials)))"
   ]
  },
  {
   "cell_type": "code",
   "execution_count": 3,
   "metadata": {},
   "outputs": [
    {
     "data": {
      "text/html": [
       "18.6433166666667"
      ],
      "text/latex": [
       "18.6433166666667"
      ],
      "text/markdown": [
       "18.6433166666667"
      ],
      "text/plain": [
       "[1] 18.64332"
      ]
     },
     "metadata": {},
     "output_type": "display_data"
    }
   ],
   "source": [
    "1118.599 / 60"
   ]
  },
  {
   "cell_type": "code",
   "execution_count": null,
   "metadata": {},
   "outputs": [],
   "source": []
  }
 ],
 "metadata": {
  "kernelspec": {
   "display_name": "R",
   "language": "R",
   "name": "ir"
  },
  "language_info": {
   "codemirror_mode": "r",
   "file_extension": ".r",
   "mimetype": "text/x-r-source",
   "name": "R",
   "pygments_lexer": "r",
   "version": "4.1.0"
  }
 },
 "nbformat": 4,
 "nbformat_minor": 4
}
